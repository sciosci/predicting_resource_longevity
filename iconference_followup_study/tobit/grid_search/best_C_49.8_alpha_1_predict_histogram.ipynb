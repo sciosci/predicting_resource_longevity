{
 "cells": [
  {
   "cell_type": "markdown",
   "metadata": {
    "id": "kLGBuUeoSrcD"
   },
   "source": [
    "# Source Code Analysis"
   ]
  },
  {
   "cell_type": "markdown",
   "metadata": {
    "id": "Oz0MXYXYSrcO"
   },
   "source": [
    "## Initialization"
   ]
  },
  {
   "cell_type": "code",
   "execution_count": 1,
   "metadata": {
    "ExecuteTime": {
     "end_time": "2021-05-29T22:14:01.967035Z",
     "start_time": "2021-05-29T22:14:01.963503Z"
    },
    "id": "-bpuuNdtSrcP",
    "pycharm": {
     "is_executing": true
    }
   },
   "outputs": [],
   "source": [
    "import os\n",
    "import sys\n",
    "\n",
    "def add_path(path):\n",
    "    if path not in sys.path:\n",
    "        sys.path.insert(0, path)\n",
    "        sys.path.append(path)\n",
    "# add_path('/home/jjian03/anaconda3/lib/python3.7/site-packages')\n",
    "add_path(f'{os.path.abspath(os.path.join(\"..\"))}')\n"
   ]
  },
  {
   "cell_type": "markdown",
   "metadata": {
    "id": "4PtC7AA-SrcQ"
   },
   "source": [
    "### Load Data"
   ]
  },
  {
   "cell_type": "code",
   "execution_count": 2,
   "metadata": {
    "ExecuteTime": {
     "end_time": "2021-05-29T22:14:02.909575Z",
     "start_time": "2021-05-29T22:14:01.969953Z"
    },
    "colab": {
     "base_uri": "https://localhost:8080/"
    },
    "id": "oPdbjXT9SrcR",
    "outputId": "d160b449-8ccd-4aa4-c1b8-20680ee44bff",
    "pycharm": {
     "is_executing": true
    }
   },
   "outputs": [
    {
     "name": "stdout",
     "output_type": "stream",
     "text": [
      "<class 'pandas.core.frame.DataFrame'>\n",
      "Int64Index: 58871 entries, 0 to 58909\n",
      "Data columns (total 42 columns):\n",
      " #   Column                                  Non-Null Count  Dtype  \n",
      "---  ------                                  --------------  -----  \n",
      " 0   protocol_type                           58871 non-null  float64\n",
      " 1   has_www                                 58871 non-null  float64\n",
      " 2   has_iframe                              58871 non-null  float64\n",
      " 3   int                                     58871 non-null  float64\n",
      " 4   org                                     58871 non-null  float64\n",
      " 5   gov                                     58871 non-null  float64\n",
      " 6   in                                      58871 non-null  float64\n",
      " 7   eu                                      58871 non-null  float64\n",
      " 8   cn                                      58871 non-null  float64\n",
      " 9   kr                                      58871 non-null  float64\n",
      " 10  url_depth                               58871 non-null  float64\n",
      " 11  subdomain_level                         58871 non-null  float64\n",
      " 12  param_cnt                               58871 non-null  float64\n",
      " 13  title_length                            58871 non-null  float64\n",
      " 14  internal_js_cnt                         58871 non-null  float64\n",
      " 15  external_js_cnt                         58871 non-null  float64\n",
      " 16  charset                                 58871 non-null  float64\n",
      " 17  hyperlink_cnt                           58871 non-null  float64\n",
      " 18  first_appear                            58871 non-null  float64\n",
      " 19  total_num_of_paper_citing               58871 non-null  float64\n",
      " 20  total_num_of_author_citing              58871 non-null  float64\n",
      " 21  total_num_of_affiliation_citing         58871 non-null  float64\n",
      " 22  total_num_of_journal_citing             58871 non-null  float64\n",
      " 23  total_num_of_author_self_citation       58871 non-null  float64\n",
      " 24  total_num_of_affiliation_self_citation  58871 non-null  float64\n",
      " 25  total_num_of_journal_self_citation      58871 non-null  float64\n",
      " 26  avg_year                                58871 non-null  float64\n",
      " 27  min_year                                58871 non-null  float64\n",
      " 28  max_year                                58871 non-null  float64\n",
      " 29  median                                  58871 non-null  float64\n",
      " 30  num_of_author                           58871 non-null  float64\n",
      " 31  num_of_author_citing                    58871 non-null  float64\n",
      " 32  num_of_affiliation_citing               58871 non-null  float64\n",
      " 33  num_of_journal_citing                   58871 non-null  float64\n",
      " 34  avg_hindex                              58871 non-null  float64\n",
      " 35  first_author_hindex                     58871 non-null  float64\n",
      " 36  last_author_hindex                      58871 non-null  float64\n",
      " 37  avg_mid_author_hindex                   58871 non-null  float64\n",
      " 38  paper_unique_affiliation                58871 non-null  float64\n",
      " 39  scaled_first_appear                     58871 non-null  float64\n",
      " 40  label                                   58871 non-null  float64\n",
      " 41  url                                     58871 non-null  object \n",
      "dtypes: float64(41), object(1)\n",
      "memory usage: 19.3+ MB\n",
      "raw_data: (58871, 42)\n"
     ]
    }
   ],
   "source": [
    "import time, datetime, numpy as np, pandas as pd\n",
    "\n",
    "seed = 77\n",
    "np.random.seed(seed)\n",
    "\n",
    "data_file = '../untrunc_data_cleaned_url.csv'\n",
    "\n",
    "raw_data = pd.read_table(data_file, sep=',', index_col=0)\n",
    "raw_data = raw_data.dropna()\n",
    "\n",
    "raw_data.info()\n",
    "\n",
    "print(f'raw_data: {raw_data.shape}')"
   ]
  },
  {
   "cell_type": "markdown",
   "metadata": {
    "id": "I-e3m3BqSrcT"
   },
   "source": [
    "### Train Test Split"
   ]
  },
  {
   "cell_type": "code",
   "execution_count": 3,
   "metadata": {
    "ExecuteTime": {
     "end_time": "2021-05-29T22:14:03.368637Z",
     "start_time": "2021-05-29T22:14:02.911801Z"
    },
    "id": "ooHJN2OYSrcT",
    "pycharm": {
     "is_executing": true
    }
   },
   "outputs": [],
   "source": [
    "from sklearn.model_selection import train_test_split\n",
    "from sklearn import preprocessing\n",
    "\n",
    "\n",
    "x = raw_data\n",
    "y = raw_data.label\n",
    "y_scaler = preprocessing.StandardScaler()\n",
    "y = y_scaler.fit_transform(y.values.reshape(-1, 1))\n",
    "y = pd.DataFrame(y).iloc[:,0]\n",
    "\n",
    "\n",
    "X_train_raw, X_test_raw, y_train, y_test = train_test_split(\n",
    "    x, y, test_size = 0.33, random_state=seed)\n",
    "\n",
    "X_train = X_train_raw.drop(['label', 'first_appear', 'url'], axis=1)\n",
    "X_test = X_test_raw.drop(['label', 'first_appear', 'url'], axis=1)\n"
   ]
  },
  {
   "cell_type": "code",
   "execution_count": 4,
   "metadata": {
    "ExecuteTime": {
     "end_time": "2021-05-29T22:14:03.411372Z",
     "start_time": "2021-05-29T22:14:03.371131Z"
    },
    "colab": {
     "base_uri": "https://localhost:8080/"
    },
    "id": "a6WXRrOBSrcU",
    "outputId": "8218af4b-038e-4c2b-b7dc-10c3a5a76e76",
    "pycharm": {
     "is_executing": true
    }
   },
   "outputs": [
    {
     "name": "stdout",
     "output_type": "stream",
     "text": [
      "Allocated 16 CPUs\n"
     ]
    },
    {
     "data": {
      "text/plain": [
       "20"
      ]
     },
     "execution_count": 4,
     "metadata": {},
     "output_type": "execute_result"
    }
   ],
   "source": [
    "import gc\n",
    "import multiprocessing\n",
    "\n",
    "import warnings\n",
    "warnings.filterwarnings(\"ignore\")\n",
    "\n",
    "\n",
    "cpu_cnt = multiprocessing.cpu_count()\n",
    "allocated_cpu = cpu_cnt\n",
    "print(f\"Allocated {allocated_cpu} CPUs\")\n",
    "gc.collect()"
   ]
  },
  {
   "cell_type": "markdown",
   "metadata": {
    "id": "srtPG5_sSrcV"
   },
   "source": [
    "#### L-BFGS-B"
   ]
  },
  {
   "cell_type": "code",
   "execution_count": 5,
   "metadata": {
    "ExecuteTime": {
     "end_time": "2021-05-29T22:14:17.030082Z",
     "start_time": "2021-05-29T22:14:03.413952Z"
    },
    "colab": {
     "base_uri": "https://localhost:8080/"
    },
    "id": "YSb0MOQYSrcV",
    "outputId": "87b530f2-4991-4946-a53a-a94566be09b9",
    "pycharm": {
     "is_executing": true
    },
    "scrolled": false
   },
   "outputs": [
    {
     "name": "stdout",
     "output_type": "stream",
     "text": [
      "      fun: 17594.505647335143\n",
      " hess_inv: <41x41 LbfgsInvHessProduct with dtype=float64>\n",
      "      jac: array([ -0.40542494, -74.39674219,   1.8454924 ,  -4.85953141,\n",
      "        12.07823688,  10.38446239,   6.93857997,  62.23045814,\n",
      "       -58.03550329,  61.29684277,  48.83918123,  -1.57102349,\n",
      "         3.60715368,  -5.85181782,   2.31548927,  -1.18523422,\n",
      "        -4.19210476,  -0.47255536,  10.48051319,  10.13829471,\n",
      "        15.28044783,   8.49887641,  -3.4960376 ,  -7.74439822,\n",
      "         8.07323143,  59.29110829, -63.65094875, -51.90170804,\n",
      "        32.63743588,  -0.81135998,  29.69924304,  -4.81545218,\n",
      "        -6.67992391,  -2.67018376,   7.98128273,  -0.94792222,\n",
      "        -4.45162598,  10.39501414, -46.25096843,  -0.22427238,\n",
      "         0.38757728])\n",
      "  message: b'CONVERGENCE: REL_REDUCTION_OF_F_<=_FACTR*EPSMCH'\n",
      "     nfev: 210\n",
      "      nit: 142\n",
      "   status: 0\n",
      "  success: True\n",
      "        x: array([ 6.98786232e+00, -1.41483000e-06, -5.81450280e-01, -6.10470413e-01,\n",
      "        2.25462234e-06,  1.10335016e-01,  4.35082323e-01,  2.41746243e-06,\n",
      "       -1.13200486e-06,  6.63798323e-07,  2.55408517e-06, -1.13286582e-01,\n",
      "       -5.08581047e-02,  8.35008778e-01,  1.73354932e-04, -5.00222068e-01,\n",
      "       -3.98489025e-03,  1.73314508e+00,  1.86173407e-04,  3.58781498e-05,\n",
      "        2.46966968e-06,  1.20003787e-05,  3.59278773e-02,  2.67880111e-02,\n",
      "        3.65087153e-03,  1.65052855e-06, -3.69294889e-07, -1.63911125e-06,\n",
      "        2.35397222e-06,  3.11005585e-02,  1.30408732e-06,  2.16528718e-02,\n",
      "        1.08997455e-02,  1.37472362e-02,  6.86551180e-06, -3.00337526e-02,\n",
      "        8.13136944e-03,  4.71069938e-04, -1.10235622e-07,  1.05582817e+00,\n",
      "        3.97917631e+00])\n"
     ]
    },
    {
     "data": {
      "text/plain": [
       "TobitRegressor(C=49.8, alpha=1, p_censor_left=-inf,\n",
       "               p_censor_right=0.2614519501713601, verbose=True)"
      ]
     },
     "execution_count": 5,
     "metadata": {},
     "output_type": "execute_result"
    }
   ],
   "source": [
    "from concurrent.futures.thread import ThreadPoolExecutor\n",
    "\n",
    "from sklearn.model_selection import GridSearchCV\n",
    "\n",
    "from Toolbox import ParameterGenerator\n",
    "from tobit import *\n",
    "\n",
    "\n",
    "start_time = time.time()\n",
    "\n",
    "p_censor_left = -math.inf\n",
    "p_censor_right = max(y)\n",
    "\n",
    "\n",
    "param_tr = {\n",
    "    'C': [round(i, 2) for i in np.arange(0, 70, 0.4).tolist()],\n",
    "    'alpha': [.55, 1],\n",
    "}\n",
    "\n",
    "tr = TobitRegressor(\n",
    "    p_censor_left=p_censor_left,\n",
    "    p_censor_right=p_censor_right,\n",
    "    C=49.8,\n",
    "    alpha=1,\n",
    "    verbose=True,\n",
    ")\n",
    "\n",
    "tr.fit(X_train, y_train)\n"
   ]
  },
  {
   "cell_type": "markdown",
   "metadata": {
    "id": "MjAs2ljXGtRn"
   },
   "source": [
    "### Predict"
   ]
  },
  {
   "cell_type": "code",
   "execution_count": 6,
   "metadata": {
    "ExecuteTime": {
     "end_time": "2021-05-29T22:14:17.038053Z",
     "start_time": "2021-05-29T22:14:17.031982Z"
    },
    "id": "8VoPvleqHa_-"
   },
   "outputs": [
    {
     "data": {
      "text/plain": [
       "0.12381863089718494"
      ]
     },
     "execution_count": 6,
     "metadata": {},
     "output_type": "execute_result"
    }
   ],
   "source": [
    "pred = tr.predict(X_test)\n",
    "pred\n",
    "\n",
    "def get_pseudo_r2(y_true, y_hat):\n",
    "    correlation_matrix = np.corrcoef(y_true, y_hat)\n",
    "    correlation_xy = correlation_matrix[0,1]\n",
    "    return correlation_xy**2\n",
    "\n",
    "get_pseudo_r2(y_test, pred)"
   ]
  },
  {
   "cell_type": "code",
   "execution_count": 7,
   "metadata": {
    "ExecuteTime": {
     "end_time": "2021-05-29T22:14:17.042798Z",
     "start_time": "2021-05-29T22:14:17.039986Z"
    },
    "id": "BpVyftflHi9O"
   },
   "outputs": [],
   "source": [
    "y_pred = y_scaler.inverse_transform(pred)\n",
    "y_pred = y_pred + 1990"
   ]
  },
  {
   "cell_type": "code",
   "execution_count": 8,
   "metadata": {
    "ExecuteTime": {
     "end_time": "2021-05-29T22:14:17.090778Z",
     "start_time": "2021-05-29T22:14:17.046336Z"
    }
   },
   "outputs": [],
   "source": [
    "life_span = pd.Series(y_pred - X_test_raw.first_appear)\n",
    "life_span.name = 'life_span'\n",
    "urls = pd.merge(life_span, raw_data.url, how='inner',\n",
    "         left_index=True, right_index=True)\n",
    "\n",
    "raw_data = raw_data.drop('url', axis=1)\n",
    "urls = pd.merge(urls, raw_data, how='inner',\n",
    "         left_index=True, right_index=True)\n",
    "\n",
    "urls = urls[urls.life_span >= 0]\n"
   ]
  },
  {
   "cell_type": "code",
   "execution_count": 9,
   "metadata": {
    "ExecuteTime": {
     "end_time": "2021-05-29T22:14:17.957212Z",
     "start_time": "2021-05-29T22:14:17.092845Z"
    }
   },
   "outputs": [
    {
     "data": {
      "text/plain": [
       "Text(0.5, 1.0, 'The life span distribution of the websites')"
      ]
     },
     "execution_count": 9,
     "metadata": {},
     "output_type": "execute_result"
    },
    {
     "data": {
      "text/plain": [
       "<Figure size 14400x9600 with 0 Axes>"
      ]
     },
     "metadata": {},
     "output_type": "display_data"
    },
    {
     "data": {
      "image/png": "[encoded data removed]",
      "text/plain": [
       "<Figure size 864x576 with 1 Axes>"
      ]
     },
     "metadata": {
      "needs_background": "light"
     },
     "output_type": "display_data"
    }
   ],
   "source": [
    "import matplotlib.pyplot as plt, matplotlib.style as style, seaborn as sns\n",
    "from scipy.stats import norm\n",
    "%matplotlib inline\n",
    "\n",
    "\n",
    "plt.figure(dpi=2400)\n",
    "# style.use('fivethirtyeight')\n",
    "fig, ax = plt.subplots(figsize=(12, 8))\n",
    "sns.histplot(urls.life_span, ax=ax)\n",
    "trans = ax.get_xaxis_transform()\n",
    "\n",
    "ax.axvline(urls.life_span.mean(), 0, 10, c='red', label='abc')\n",
    "ax.text(urls.life_span.mean() -15, .65, f'Mean ({round(urls.life_span.mean(), 2)} years)', transform=trans, c='black', size='large', weight='bold')\n",
    "\n",
    "ax.set(\n",
    "    xlabel='Life Span',\n",
    "    ylabel='Frequency'\n",
    ")\n",
    "\n",
    "ax.set_title('The life span distribution of the websites', fontsize=30)"
   ]
  },
  {
   "cell_type": "code",
   "execution_count": 10,
   "metadata": {
    "ExecuteTime": {
     "end_time": "2021-05-29T22:14:18.596595Z",
     "start_time": "2021-05-29T22:14:17.958736Z"
    }
   },
   "outputs": [
    {
     "data": {
      "text/plain": [
       "Text(0.5, 1.0, 'The declining trend of the survived websites')"
      ]
     },
     "execution_count": 10,
     "metadata": {},
     "output_type": "execute_result"
    },
    {
     "data": {
      "text/plain": [
       "<Figure size 14400x9600 with 0 Axes>"
      ]
     },
     "metadata": {},
     "output_type": "display_data"
    },
    {
     "data": {
      "image/png": "[encoded data removed]",
      "text/plain": [
       "<Figure size 864x576 with 1 Axes>"
      ]
     },
     "metadata": {
      "needs_background": "light"
     },
     "output_type": "display_data"
    }
   ],
   "source": [
    "from scipy.stats import norm\n",
    "\n",
    "\n",
    "plt.figure(dpi=2400)\n",
    "plt.clf()\n",
    "fig, ax = plt.subplots(figsize=(12, 8))\n",
    "\n",
    "n, x, _ = plt.hist(\n",
    "    urls.life_span,\n",
    "    140,\n",
    "    alpha=.7,\n",
    "    edgecolor='black',\n",
    "    cumulative=-1)\n",
    "\n",
    "ax.axvline(urls.life_span.mean(), 0, 10, c='red', label='abc')\n",
    "ax.text(urls.life_span.mean()+1, .5, f'Mean({round(urls.life_span.mean(), 2)} years)', transform=trans, c='black', size='large', weight='bold')\n",
    "\n",
    "ax.set(\n",
    "    xlabel='Life Span',\n",
    "    ylabel='Frequency'\n",
    ")\n",
    "\n",
    "ax.set_title('The declining trend of the survived websites', fontsize=30)"
   ]
  }
 ],
 "metadata": {
  "colab": {
   "collapsed_sections": [],
   "name": "scrutinize_best_C.ipynb",
   "provenance": [],
   "toc_visible": true
  },
  "kernelspec": {
   "display_name": "Python 3",
   "language": "python",
   "name": "python3"
  },
  "language_info": {
   "codemirror_mode": {
    "name": "ipython",
    "version": 3
   },
   "file_extension": ".py",
   "mimetype": "text/x-python",
   "name": "python",
   "nbconvert_exporter": "python",
   "pygments_lexer": "ipython3",
   "version": "3.7.4"
  }
 },
 "nbformat": 4,
 "nbformat_minor": 1
}
