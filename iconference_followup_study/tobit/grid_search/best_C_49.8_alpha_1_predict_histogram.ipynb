{
 "cells": [
  {
   "cell_type": "markdown",
   "metadata": {
    "id": "kLGBuUeoSrcD"
   },
   "source": [
    "# Source Code Analysis"
   ]
  },
  {
   "cell_type": "markdown",
   "metadata": {
    "id": "Oz0MXYXYSrcO"
   },
   "source": [
    "## Initialization"
   ]
  },
  {
   "cell_type": "code",
   "execution_count": 1,
   "metadata": {
    "ExecuteTime": {
     "end_time": "2021-04-03T20:55:45.006393Z",
     "start_time": "2021-04-03T20:55:45.003237Z"
    },
    "id": "-bpuuNdtSrcP",
    "pycharm": {
     "is_executing": true
    }
   },
   "outputs": [],
   "source": [
    "import os\n",
    "import sys\n",
    "\n",
    "def add_path(path):\n",
    "    if path not in sys.path:\n",
    "        sys.path.insert(0, path)\n",
    "        sys.path.append(path)\n",
    "# add_path('/home/jjian03/anaconda3/lib/python3.7/site-packages')\n",
    "# add_path(f'{os.path.abspath(os.path.join(\".\"))}/lib')\n"
   ]
  },
  {
   "cell_type": "markdown",
   "metadata": {
    "id": "4PtC7AA-SrcQ"
   },
   "source": [
    "### Load Data"
   ]
  },
  {
   "cell_type": "code",
   "execution_count": 2,
   "metadata": {
    "ExecuteTime": {
     "end_time": "2021-04-03T20:55:45.958118Z",
     "start_time": "2021-04-03T20:55:45.008140Z"
    },
    "colab": {
     "base_uri": "https://localhost:8080/"
    },
    "id": "oPdbjXT9SrcR",
    "outputId": "d160b449-8ccd-4aa4-c1b8-20680ee44bff",
    "pycharm": {
     "is_executing": true
    }
   },
   "outputs": [
    {
     "name": "stdout",
     "output_type": "stream",
     "text": [
      "<class 'pandas.core.frame.DataFrame'>\n",
      "Int64Index: 58875 entries, 0 to 58911\n",
      "Data columns (total 42 columns):\n",
      " #   Column                                  Non-Null Count  Dtype  \n",
      "---  ------                                  --------------  -----  \n",
      " 0   protocol_type                           58875 non-null  float64\n",
      " 1   has_www                                 58875 non-null  float64\n",
      " 2   has_iframe                              58875 non-null  float64\n",
      " 3   int                                     58875 non-null  float64\n",
      " 4   org                                     58875 non-null  float64\n",
      " 5   gov                                     58875 non-null  float64\n",
      " 6   in                                      58875 non-null  float64\n",
      " 7   eu                                      58875 non-null  float64\n",
      " 8   cn                                      58875 non-null  float64\n",
      " 9   kr                                      58875 non-null  float64\n",
      " 10  url_depth                               58875 non-null  float64\n",
      " 11  subdomain_level                         58875 non-null  float64\n",
      " 12  param_cnt                               58875 non-null  float64\n",
      " 13  title_length                            58875 non-null  float64\n",
      " 14  internal_js_cnt                         58875 non-null  float64\n",
      " 15  external_js_cnt                         58875 non-null  float64\n",
      " 16  charset                                 58875 non-null  float64\n",
      " 17  hyperlink_cnt                           58875 non-null  float64\n",
      " 18  first_appear                            58875 non-null  float64\n",
      " 19  total_num_of_paper_citing               58875 non-null  float64\n",
      " 20  total_num_of_author_citing              58875 non-null  float64\n",
      " 21  total_num_of_affiliation_citing         58875 non-null  float64\n",
      " 22  total_num_of_journal_citing             58875 non-null  float64\n",
      " 23  total_num_of_author_self_citation       58875 non-null  float64\n",
      " 24  total_num_of_affiliation_self_citation  58875 non-null  float64\n",
      " 25  total_num_of_journal_self_citation      58875 non-null  float64\n",
      " 26  avg_year                                58875 non-null  float64\n",
      " 27  min_year                                58875 non-null  float64\n",
      " 28  max_year                                58875 non-null  float64\n",
      " 29  median                                  58875 non-null  float64\n",
      " 30  num_of_author                           58875 non-null  float64\n",
      " 31  num_of_author_citing                    58875 non-null  float64\n",
      " 32  num_of_affiliation_citing               58875 non-null  float64\n",
      " 33  num_of_journal_citing                   58875 non-null  float64\n",
      " 34  avg_hindex                              58875 non-null  float64\n",
      " 35  first_author_hindex                     58875 non-null  float64\n",
      " 36  last_author_hindex                      58875 non-null  float64\n",
      " 37  avg_mid_author_hindex                   58875 non-null  float64\n",
      " 38  paper_unique_affiliation                58875 non-null  float64\n",
      " 39  scaled_first_appear                     58875 non-null  float64\n",
      " 40  label                                   58875 non-null  float64\n",
      " 41  url                                     58875 non-null  object \n",
      "dtypes: float64(41), object(1)\n",
      "memory usage: 19.3+ MB\n",
      "raw_data: (58875, 42)\n"
     ]
    }
   ],
   "source": [
    "import time, datetime, numpy as np, pandas as pd\n",
    "\n",
    "seed = 77\n",
    "np.random.seed(seed)\n",
    "\n",
    "data_file = 'untrunc_data_cleaned_url.csv'\n",
    "\n",
    "raw_data = pd.read_table(data_file, sep=',', index_col=0)\n",
    "raw_data = raw_data.dropna()\n",
    "\n",
    "raw_data.info()\n",
    "\n",
    "print(f'raw_data: {raw_data.shape}')"
   ]
  },
  {
   "cell_type": "markdown",
   "metadata": {
    "id": "I-e3m3BqSrcT"
   },
   "source": [
    "### Train Test Split"
   ]
  },
  {
   "cell_type": "code",
   "execution_count": 3,
   "metadata": {
    "ExecuteTime": {
     "end_time": "2021-04-03T20:55:46.639848Z",
     "start_time": "2021-04-03T20:55:45.960445Z"
    },
    "id": "ooHJN2OYSrcT",
    "pycharm": {
     "is_executing": true
    }
   },
   "outputs": [],
   "source": [
    "from sklearn.model_selection import train_test_split\n",
    "from sklearn import preprocessing\n",
    "\n",
    "\n",
    "x = raw_data\n",
    "y = raw_data.label\n",
    "y_scaler = preprocessing.StandardScaler()\n",
    "y = y_scaler.fit_transform(y.values.reshape(-1, 1))\n",
    "y = pd.DataFrame(y).iloc[:,0]\n",
    "\n",
    "\n",
    "X_train_raw, X_test_raw, y_train, y_test = train_test_split(\n",
    "    x, y, test_size = 0.33, random_state=seed)\n",
    "\n",
    "X_train = X_train_raw.drop(['label', 'first_appear', 'url'], axis=1)\n",
    "X_test = X_test_raw.drop(['label', 'first_appear', 'url'], axis=1)\n"
   ]
  },
  {
   "cell_type": "code",
   "execution_count": 4,
   "metadata": {
    "ExecuteTime": {
     "end_time": "2021-04-03T20:55:46.684210Z",
     "start_time": "2021-04-03T20:55:46.642121Z"
    },
    "colab": {
     "base_uri": "https://localhost:8080/"
    },
    "id": "a6WXRrOBSrcU",
    "outputId": "8218af4b-038e-4c2b-b7dc-10c3a5a76e76",
    "pycharm": {
     "is_executing": true
    }
   },
   "outputs": [
    {
     "name": "stdout",
     "output_type": "stream",
     "text": [
      "Allocated 16 CPUs\n"
     ]
    },
    {
     "data": {
      "text/plain": [
       "20"
      ]
     },
     "execution_count": 4,
     "metadata": {},
     "output_type": "execute_result"
    }
   ],
   "source": [
    "import gc\n",
    "import multiprocessing\n",
    "\n",
    "import warnings\n",
    "warnings.filterwarnings(\"ignore\")\n",
    "\n",
    "\n",
    "cpu_cnt = multiprocessing.cpu_count()\n",
    "allocated_cpu = cpu_cnt\n",
    "print(f\"Allocated {allocated_cpu} CPUs\")\n",
    "gc.collect()"
   ]
  },
  {
   "cell_type": "markdown",
   "metadata": {
    "id": "srtPG5_sSrcV"
   },
   "source": [
    "#### L-BFGS-B"
   ]
  },
  {
   "cell_type": "code",
   "execution_count": 5,
   "metadata": {
    "ExecuteTime": {
     "end_time": "2021-04-03T20:55:58.032846Z",
     "start_time": "2021-04-03T20:55:46.686101Z"
    },
    "colab": {
     "base_uri": "https://localhost:8080/"
    },
    "id": "YSb0MOQYSrcV",
    "outputId": "87b530f2-4991-4946-a53a-a94566be09b9",
    "pycharm": {
     "is_executing": true
    },
    "scrolled": false
   },
   "outputs": [
    {
     "name": "stdout",
     "output_type": "stream",
     "text": [
      "      fun: 17918.27135185433\n",
      " hess_inv: <41x41 LbfgsInvHessProduct with dtype=float64>\n",
      "      jac: array([-8.23377256e+00,  3.14493278e+01, -8.40393370e-01, -1.13238087e+01,\n",
      "        9.52095976e+00, -2.55298004e-01,  2.70690815e+00,  5.64253671e+01,\n",
      "        5.18508752e+01, -4.43221465e+01, -5.07738684e+01, -3.45887184e+00,\n",
      "        2.00241038e-02,  1.35317508e+00, -4.38884492e+00,  1.36754962e+00,\n",
      "       -2.31780396e+01,  7.07145786e+00,  1.79325114e+01,  2.08855966e+01,\n",
      "        1.89570750e+01,  1.56369325e+01,  6.94822093e+00,  6.34989952e+00,\n",
      "       -3.26293075e+01,  4.66239422e+01,  6.35926847e+01,  7.27634021e+01,\n",
      "       -3.87309743e+01, -4.01852202e-01,  2.83143473e+01, -1.18607041e+00,\n",
      "        1.37064684e-01,  2.66583806e+00,  1.13703432e+00, -5.98335301e+00,\n",
      "       -9.88503164e+00, -1.26277565e+01, -1.77231629e+01,  3.47348876e+00,\n",
      "        1.54603380e+01])\n",
      "  message: b'CONVERGENCE: REL_REDUCTION_OF_F_<=_FACTR*EPSMCH'\n",
      "     nfev: 174\n",
      "      nit: 138\n",
      "   status: 0\n",
      "  success: True\n",
      "        x: array([ 6.91899988e+00,  7.52377131e-06, -5.32026335e-01, -8.31114099e-01,\n",
      "        6.75877058e-05,  2.70282519e-01,  4.50677637e-01,  6.28457550e-06,\n",
      "        9.64772870e-08, -8.98154198e-06, -1.85853245e-06, -1.03433240e-01,\n",
      "       -8.41435563e-02,  8.57616083e-01,  2.29657955e-02, -5.44213330e-01,\n",
      "       -1.36298284e-05,  1.72771824e+00,  3.29355902e-02,  1.38950791e-05,\n",
      "        7.46422956e-06,  3.45188207e-06,  7.47465083e-05,  2.66291702e-05,\n",
      "       -4.23031701e-06,  6.19776359e-07,  7.81671416e-07,  4.48510452e-07,\n",
      "       -2.54866840e-06,  4.01642807e-02,  9.49528198e-06,  9.96058514e-03,\n",
      "        2.45579155e-02,  1.64867174e-02,  1.81882060e-04, -5.24543432e-02,\n",
      "        4.69930260e-02,  3.68483354e-02, -2.88904422e-06,  1.05771874e+00,\n",
      "        3.89552377e+00])\n"
     ]
    },
    {
     "data": {
      "text/plain": [
       "TobitRegressor(C=49.8, alpha=1, p_censor_left=-inf,\n",
       "               p_censor_right=0.2627393823832124, verbose=True)"
      ]
     },
     "execution_count": 5,
     "metadata": {},
     "output_type": "execute_result"
    }
   ],
   "source": [
    "from concurrent.futures.thread import ThreadPoolExecutor\n",
    "\n",
    "from sklearn.model_selection import GridSearchCV\n",
    "\n",
    "from Toolbox import ParameterGenerator\n",
    "from tobit import *\n",
    "\n",
    "\n",
    "start_time = time.time()\n",
    "\n",
    "p_censor_left = -math.inf\n",
    "p_censor_right = max(y)\n",
    "\n",
    "\n",
    "param_tr = {\n",
    "    'C': [round(i, 2) for i in np.arange(0, 70, 0.4).tolist()],\n",
    "    'alpha': [.55, 1],\n",
    "}\n",
    "\n",
    "tr = TobitRegressor(\n",
    "    p_censor_left=p_censor_left,\n",
    "    p_censor_right=p_censor_right,\n",
    "    C=49.8,\n",
    "    alpha=1,\n",
    "    verbose=True,\n",
    ")\n",
    "\n",
    "tr.fit(X_train, y_train)\n"
   ]
  },
  {
   "cell_type": "markdown",
   "metadata": {
    "id": "MjAs2ljXGtRn"
   },
   "source": [
    "### Predict"
   ]
  },
  {
   "cell_type": "code",
   "execution_count": 6,
   "metadata": {
    "ExecuteTime": {
     "end_time": "2021-04-03T20:55:58.041211Z",
     "start_time": "2021-04-03T20:55:58.034982Z"
    },
    "id": "8VoPvleqHa_-"
   },
   "outputs": [
    {
     "data": {
      "text/plain": [
       "0.12378856524451701"
      ]
     },
     "execution_count": 6,
     "metadata": {},
     "output_type": "execute_result"
    }
   ],
   "source": [
    "pred = tr.predict(X_test)\n",
    "pred\n",
    "\n",
    "def get_pseudo_r2(y_true, y_hat):\n",
    "    correlation_matrix = np.corrcoef(y_true, y_hat)\n",
    "    correlation_xy = correlation_matrix[0,1]\n",
    "    return correlation_xy**2\n",
    "\n",
    "get_pseudo_r2(y_test, pred)"
   ]
  },
  {
   "cell_type": "code",
   "execution_count": 7,
   "metadata": {
    "ExecuteTime": {
     "end_time": "2021-04-03T20:55:58.046333Z",
     "start_time": "2021-04-03T20:55:58.043299Z"
    },
    "id": "BpVyftflHi9O"
   },
   "outputs": [],
   "source": [
    "y_pred = y_scaler.inverse_transform(pred)\n",
    "y_pred = y_pred + 1990"
   ]
  },
  {
   "cell_type": "code",
   "execution_count": 8,
   "metadata": {
    "ExecuteTime": {
     "end_time": "2021-04-03T20:55:58.089561Z",
     "start_time": "2021-04-03T20:55:58.050793Z"
    }
   },
   "outputs": [],
   "source": [
    "life_span = pd.Series(y_pred - X_test_raw.first_appear)\n",
    "life_span.name = 'life_span'\n",
    "urls = pd.merge(life_span, raw_data.url, how='inner',\n",
    "         left_index=True, right_index=True)\n",
    "\n",
    "raw_data = raw_data.drop('url', axis=1)\n",
    "urls = pd.merge(urls, raw_data, how='inner',\n",
    "         left_index=True, right_index=True)\n"
   ]
  },
  {
   "cell_type": "code",
   "execution_count": 9,
   "metadata": {
    "ExecuteTime": {
     "end_time": "2021-04-03T20:55:58.885071Z",
     "start_time": "2021-04-03T20:55:58.092454Z"
    }
   },
   "outputs": [
    {
     "data": {
      "text/plain": [
       "Text(0.5, 1.0, 'The life span distribution of the websites')"
      ]
     },
     "execution_count": 9,
     "metadata": {},
     "output_type": "execute_result"
    },
    {
     "data": {
      "image/png": "[encoded data removed]",
      "text/plain": [
       "<Figure size 864x576 with 1 Axes>"
      ]
     },
     "metadata": {},
     "output_type": "display_data"
    }
   ],
   "source": [
    "import matplotlib.pyplot as plt, matplotlib.style as style, seaborn as sns\n",
    "from scipy.stats import norm\n",
    "%matplotlib inline\n",
    "\n",
    "\n",
    "style.use('fivethirtyeight')\n",
    "fig, ax = plt.subplots(figsize=(12, 8))\n",
    "sns.histplot(urls.life_span, ax=ax)\n",
    "trans = ax.get_xaxis_transform()\n",
    "\n",
    "ax.axvline(urls.life_span.mean(), 0, 10, c='red', label='abc')\n",
    "ax.text(urls.life_span.mean() + 1, .5, f'Mean({round(urls.life_span.mean(), 2)} years)', transform=trans, c='black', size='large', weight='bold')\n",
    "\n",
    "ax.axvline(0, 0, 10, c='red', label='abc')\n",
    "ax.text(-7, .5, f'Zero', transform=trans, c='black', size='large', weight='bold')\n",
    "\n",
    "ax.set(\n",
    "    xlabel='Life Span',\n",
    "    ylabel='Count'\n",
    ")\n",
    "\n",
    "ax.set_title('The life span distribution of the websites', fontsize=30)"
   ]
  },
  {
   "cell_type": "code",
   "execution_count": 10,
   "metadata": {
    "ExecuteTime": {
     "end_time": "2021-04-03T20:55:59.388682Z",
     "start_time": "2021-04-03T20:55:58.886612Z"
    }
   },
   "outputs": [
    {
     "data": {
      "text/plain": [
       "Text(0.5, 1.0, 'The declining trend of the survived websites')"
      ]
     },
     "execution_count": 10,
     "metadata": {},
     "output_type": "execute_result"
    },
    {
     "data": {
      "text/plain": [
       "<Figure size 432x288 with 0 Axes>"
      ]
     },
     "metadata": {},
     "output_type": "display_data"
    },
    {
     "data": {
      "image/png": "[encoded data removed]",
      "text/plain": [
       "<Figure size 864x576 with 1 Axes>"
      ]
     },
     "metadata": {
      "needs_background": "light"
     },
     "output_type": "display_data"
    }
   ],
   "source": [
    "from scipy.stats import norm\n",
    "\n",
    "\n",
    "plt.clf()\n",
    "fig, ax = plt.subplots(figsize=(12, 8))\n",
    "\n",
    "n, x, _ = plt.hist(\n",
    "    urls.life_span,\n",
    "    140,\n",
    "    alpha=.7,\n",
    "    edgecolor='white',\n",
    "    cumulative=-1)\n",
    "\n",
    "ax.axvline(urls.life_span.mean(), 0, 10, c='red', label='abc')\n",
    "ax.text(urls.life_span.mean()+1, .5, f'Mean({round(urls.life_span.mean(), 2)} years)', transform=trans, c='black', size='large', weight='bold')\n",
    "\n",
    "ax.axvline(0, 0, 10, c='red', label='abc')\n",
    "ax.text(-7, .5, f'Zero', transform=trans, c='black', size='large', weight='bold')\n",
    "\n",
    "ax.set(\n",
    "    xlabel='Life Span',\n",
    "    ylabel='Survival Count'\n",
    ")\n",
    "\n",
    "ax.set_title('The declining trend of the survived websites', fontsize=30)"
   ]
  }
 ],
 "metadata": {
  "colab": {
   "collapsed_sections": [],
   "name": "scrutinize_best_C.ipynb",
   "provenance": [],
   "toc_visible": true
  },
  "kernelspec": {
   "display_name": "Python 3",
   "language": "python",
   "name": "python3"
  },
  "language_info": {
   "codemirror_mode": {
    "name": "ipython",
    "version": 3
   },
   "file_extension": ".py",
   "mimetype": "text/x-python",
   "name": "python",
   "nbconvert_exporter": "python",
   "pygments_lexer": "ipython3",
   "version": "3.7.4"
  }
 },
 "nbformat": 4,
 "nbformat_minor": 1
}
