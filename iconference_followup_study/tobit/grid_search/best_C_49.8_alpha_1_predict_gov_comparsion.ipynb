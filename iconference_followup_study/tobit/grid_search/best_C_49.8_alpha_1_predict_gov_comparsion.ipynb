{
 "cells": [
  {
   "cell_type": "markdown",
   "metadata": {
    "id": "kLGBuUeoSrcD"
   },
   "source": [
    "# Source Code Analysis"
   ]
  },
  {
   "cell_type": "markdown",
   "metadata": {
    "id": "Oz0MXYXYSrcO"
   },
   "source": [
    "## Initialization"
   ]
  },
  {
   "cell_type": "code",
   "execution_count": 1,
   "metadata": {
    "ExecuteTime": {
     "end_time": "2021-05-29T22:36:34.115422Z",
     "start_time": "2021-05-29T22:36:34.108818Z"
    },
    "id": "-bpuuNdtSrcP",
    "pycharm": {
     "is_executing": true
    }
   },
   "outputs": [],
   "source": [
    "import os\n",
    "import sys\n",
    "\n",
    "def add_path(path):\n",
    "    if path not in sys.path:\n",
    "        sys.path.insert(0, path)\n",
    "        sys.path.append(path)\n",
    "# add_path('/home/jjian03/anaconda3/lib/python3.7/site-packages')\n",
    "add_path(f'{os.path.abspath(os.path.join(\"..\"))}')\n"
   ]
  },
  {
   "cell_type": "markdown",
   "metadata": {
    "id": "4PtC7AA-SrcQ"
   },
   "source": [
    "### Load Data"
   ]
  },
  {
   "cell_type": "code",
   "execution_count": 2,
   "metadata": {
    "ExecuteTime": {
     "end_time": "2021-05-29T22:36:35.395178Z",
     "start_time": "2021-05-29T22:36:34.118611Z"
    },
    "colab": {
     "base_uri": "https://localhost:8080/"
    },
    "id": "oPdbjXT9SrcR",
    "outputId": "d160b449-8ccd-4aa4-c1b8-20680ee44bff",
    "pycharm": {
     "is_executing": true
    }
   },
   "outputs": [
    {
     "name": "stdout",
     "output_type": "stream",
     "text": [
      "<class 'pandas.core.frame.DataFrame'>\n",
      "Int64Index: 58871 entries, 0 to 58909\n",
      "Data columns (total 42 columns):\n",
      " #   Column                                  Non-Null Count  Dtype  \n",
      "---  ------                                  --------------  -----  \n",
      " 0   protocol_type                           58871 non-null  float64\n",
      " 1   has_www                                 58871 non-null  float64\n",
      " 2   has_iframe                              58871 non-null  float64\n",
      " 3   int                                     58871 non-null  float64\n",
      " 4   org                                     58871 non-null  float64\n",
      " 5   gov                                     58871 non-null  float64\n",
      " 6   in                                      58871 non-null  float64\n",
      " 7   eu                                      58871 non-null  float64\n",
      " 8   cn                                      58871 non-null  float64\n",
      " 9   kr                                      58871 non-null  float64\n",
      " 10  url_depth                               58871 non-null  float64\n",
      " 11  subdomain_level                         58871 non-null  float64\n",
      " 12  param_cnt                               58871 non-null  float64\n",
      " 13  title_length                            58871 non-null  float64\n",
      " 14  internal_js_cnt                         58871 non-null  float64\n",
      " 15  external_js_cnt                         58871 non-null  float64\n",
      " 16  charset                                 58871 non-null  float64\n",
      " 17  hyperlink_cnt                           58871 non-null  float64\n",
      " 18  first_appear                            58871 non-null  float64\n",
      " 19  total_num_of_paper_citing               58871 non-null  float64\n",
      " 20  total_num_of_author_citing              58871 non-null  float64\n",
      " 21  total_num_of_affiliation_citing         58871 non-null  float64\n",
      " 22  total_num_of_journal_citing             58871 non-null  float64\n",
      " 23  total_num_of_author_self_citation       58871 non-null  float64\n",
      " 24  total_num_of_affiliation_self_citation  58871 non-null  float64\n",
      " 25  total_num_of_journal_self_citation      58871 non-null  float64\n",
      " 26  avg_year                                58871 non-null  float64\n",
      " 27  min_year                                58871 non-null  float64\n",
      " 28  max_year                                58871 non-null  float64\n",
      " 29  median                                  58871 non-null  float64\n",
      " 30  num_of_author                           58871 non-null  float64\n",
      " 31  num_of_author_citing                    58871 non-null  float64\n",
      " 32  num_of_affiliation_citing               58871 non-null  float64\n",
      " 33  num_of_journal_citing                   58871 non-null  float64\n",
      " 34  avg_hindex                              58871 non-null  float64\n",
      " 35  first_author_hindex                     58871 non-null  float64\n",
      " 36  last_author_hindex                      58871 non-null  float64\n",
      " 37  avg_mid_author_hindex                   58871 non-null  float64\n",
      " 38  paper_unique_affiliation                58871 non-null  float64\n",
      " 39  scaled_first_appear                     58871 non-null  float64\n",
      " 40  label                                   58871 non-null  float64\n",
      " 41  url                                     58871 non-null  object \n",
      "dtypes: float64(41), object(1)\n",
      "memory usage: 19.3+ MB\n",
      "raw_data: (58871, 42)\n"
     ]
    }
   ],
   "source": [
    "import time, datetime, numpy as np, pandas as pd\n",
    "\n",
    "seed = 77\n",
    "np.random.seed(seed)\n",
    "\n",
    "data_file = '../untrunc_data_cleaned_url.csv'\n",
    "\n",
    "raw_data = pd.read_table(data_file, sep=',', index_col=0)\n",
    "raw_data = raw_data.dropna()\n",
    "\n",
    "raw_data.info()\n",
    "\n",
    "print(f'raw_data: {raw_data.shape}')"
   ]
  },
  {
   "cell_type": "markdown",
   "metadata": {
    "id": "I-e3m3BqSrcT"
   },
   "source": [
    "### Train Test Split"
   ]
  },
  {
   "cell_type": "code",
   "execution_count": 3,
   "metadata": {
    "ExecuteTime": {
     "end_time": "2021-05-29T22:36:36.343462Z",
     "start_time": "2021-05-29T22:36:35.399271Z"
    },
    "id": "ooHJN2OYSrcT",
    "pycharm": {
     "is_executing": true
    }
   },
   "outputs": [],
   "source": [
    "from sklearn.model_selection import train_test_split\n",
    "from sklearn import preprocessing\n",
    "\n",
    "\n",
    "x = raw_data\n",
    "y = raw_data.label\n",
    "y_scaler = preprocessing.StandardScaler()\n",
    "y = y_scaler.fit_transform(y.values.reshape(-1, 1))\n",
    "y = pd.DataFrame(y).iloc[:,0]\n",
    "\n",
    "\n",
    "X_train_raw, X_test_raw, y_train, y_test = train_test_split(\n",
    "    x, y, test_size = 0.33, random_state=seed)\n",
    "\n",
    "X_train = X_train_raw.drop(['label', 'first_appear', 'url'], axis=1)\n",
    "X_test = X_test_raw.drop(['label', 'first_appear', 'url'], axis=1)\n"
   ]
  },
  {
   "cell_type": "code",
   "execution_count": 4,
   "metadata": {
    "ExecuteTime": {
     "end_time": "2021-05-29T22:36:36.397931Z",
     "start_time": "2021-05-29T22:36:36.347992Z"
    },
    "colab": {
     "base_uri": "https://localhost:8080/"
    },
    "id": "a6WXRrOBSrcU",
    "outputId": "8218af4b-038e-4c2b-b7dc-10c3a5a76e76",
    "pycharm": {
     "is_executing": true
    }
   },
   "outputs": [
    {
     "name": "stdout",
     "output_type": "stream",
     "text": [
      "Allocated 16 CPUs\n"
     ]
    },
    {
     "data": {
      "text/plain": [
       "20"
      ]
     },
     "execution_count": 4,
     "metadata": {},
     "output_type": "execute_result"
    }
   ],
   "source": [
    "import gc\n",
    "import multiprocessing\n",
    "\n",
    "import warnings\n",
    "warnings.filterwarnings(\"ignore\")\n",
    "\n",
    "\n",
    "cpu_cnt = multiprocessing.cpu_count()\n",
    "allocated_cpu = cpu_cnt\n",
    "print(f\"Allocated {allocated_cpu} CPUs\")\n",
    "gc.collect()"
   ]
  },
  {
   "cell_type": "markdown",
   "metadata": {
    "id": "srtPG5_sSrcV"
   },
   "source": [
    "#### L-BFGS-B"
   ]
  },
  {
   "cell_type": "code",
   "execution_count": 5,
   "metadata": {
    "ExecuteTime": {
     "end_time": "2021-05-29T22:37:02.028102Z",
     "start_time": "2021-05-29T22:36:36.401560Z"
    },
    "colab": {
     "base_uri": "https://localhost:8080/"
    },
    "id": "YSb0MOQYSrcV",
    "outputId": "87b530f2-4991-4946-a53a-a94566be09b9",
    "pycharm": {
     "is_executing": true
    },
    "scrolled": false
   },
   "outputs": [
    {
     "name": "stdout",
     "output_type": "stream",
     "text": [
      "      fun: 17594.505647335143\n",
      " hess_inv: <41x41 LbfgsInvHessProduct with dtype=float64>\n",
      "      jac: array([ -0.40542494, -74.39674219,   1.8454924 ,  -4.85953141,\n",
      "        12.07823688,  10.38446239,   6.93857997,  62.23045814,\n",
      "       -58.03550329,  61.29684277,  48.83918123,  -1.57102349,\n",
      "         3.60715368,  -5.85181782,   2.31548927,  -1.18523422,\n",
      "        -4.19210476,  -0.47255536,  10.48051319,  10.13829471,\n",
      "        15.28044783,   8.49887641,  -3.4960376 ,  -7.74439822,\n",
      "         8.07323143,  59.29110829, -63.65094875, -51.90170804,\n",
      "        32.63743588,  -0.81135998,  29.69924304,  -4.81545218,\n",
      "        -6.67992391,  -2.67018376,   7.98128273,  -0.94792222,\n",
      "        -4.45162598,  10.39501414, -46.25096843,  -0.22427238,\n",
      "         0.38757728])\n",
      "  message: b'CONVERGENCE: REL_REDUCTION_OF_F_<=_FACTR*EPSMCH'\n",
      "     nfev: 210\n",
      "      nit: 142\n",
      "   status: 0\n",
      "  success: True\n",
      "        x: array([ 6.98786232e+00, -1.41483000e-06, -5.81450280e-01, -6.10470413e-01,\n",
      "        2.25462234e-06,  1.10335016e-01,  4.35082323e-01,  2.41746243e-06,\n",
      "       -1.13200486e-06,  6.63798323e-07,  2.55408517e-06, -1.13286582e-01,\n",
      "       -5.08581047e-02,  8.35008778e-01,  1.73354932e-04, -5.00222068e-01,\n",
      "       -3.98489025e-03,  1.73314508e+00,  1.86173407e-04,  3.58781498e-05,\n",
      "        2.46966968e-06,  1.20003787e-05,  3.59278773e-02,  2.67880111e-02,\n",
      "        3.65087153e-03,  1.65052855e-06, -3.69294889e-07, -1.63911125e-06,\n",
      "        2.35397222e-06,  3.11005585e-02,  1.30408732e-06,  2.16528718e-02,\n",
      "        1.08997455e-02,  1.37472362e-02,  6.86551180e-06, -3.00337526e-02,\n",
      "        8.13136944e-03,  4.71069938e-04, -1.10235622e-07,  1.05582817e+00,\n",
      "        3.97917631e+00])\n"
     ]
    },
    {
     "data": {
      "text/plain": [
       "TobitRegressor(C=49.8, alpha=1, p_censor_left=-inf,\n",
       "               p_censor_right=0.2614519501713601, verbose=True)"
      ]
     },
     "execution_count": 5,
     "metadata": {},
     "output_type": "execute_result"
    }
   ],
   "source": [
    "from concurrent.futures.thread import ThreadPoolExecutor\n",
    "\n",
    "from sklearn.model_selection import GridSearchCV\n",
    "\n",
    "from Toolbox import ParameterGenerator\n",
    "from tobit import *\n",
    "\n",
    "\n",
    "start_time = time.time()\n",
    "\n",
    "p_censor_left = -math.inf\n",
    "p_censor_right = max(y)\n",
    "\n",
    "\n",
    "param_tr = {\n",
    "    'C': [round(i, 2) for i in np.arange(0, 70, 0.4).tolist()],\n",
    "    'alpha': [.55, 1],\n",
    "}\n",
    "\n",
    "tr = TobitRegressor(\n",
    "    p_censor_left=p_censor_left,\n",
    "    p_censor_right=p_censor_right,\n",
    "    C=49.8,\n",
    "    alpha=1,\n",
    "    verbose=True,\n",
    ")\n",
    "\n",
    "tr.fit(X_train, y_train)\n"
   ]
  },
  {
   "cell_type": "markdown",
   "metadata": {
    "id": "MjAs2ljXGtRn"
   },
   "source": [
    "### Predict"
   ]
  },
  {
   "cell_type": "code",
   "execution_count": 6,
   "metadata": {
    "ExecuteTime": {
     "end_time": "2021-05-29T22:37:02.041742Z",
     "start_time": "2021-05-29T22:37:02.031507Z"
    },
    "id": "8VoPvleqHa_-"
   },
   "outputs": [
    {
     "data": {
      "text/plain": [
       "44568    4.674123\n",
       "34461    8.572587\n",
       "9716     9.004447\n",
       "39796    5.249486\n",
       "26012    4.518504\n",
       "           ...   \n",
       "47103    3.813929\n",
       "13996    3.470684\n",
       "9533     2.924835\n",
       "56769    4.594634\n",
       "54035    9.362539\n",
       "Length: 19428, dtype: float64"
      ]
     },
     "execution_count": 6,
     "metadata": {},
     "output_type": "execute_result"
    }
   ],
   "source": [
    "pred = tr.predict(X_test)\n",
    "pred\n"
   ]
  },
  {
   "cell_type": "code",
   "execution_count": 7,
   "metadata": {
    "ExecuteTime": {
     "end_time": "2021-05-29T22:37:02.050486Z",
     "start_time": "2021-05-29T22:37:02.045048Z"
    },
    "id": "BpVyftflHi9O"
   },
   "outputs": [],
   "source": [
    "y_pred = y_scaler.inverse_transform(pred)\n",
    "y_pred = y_pred + 1990"
   ]
  },
  {
   "cell_type": "code",
   "execution_count": 8,
   "metadata": {
    "ExecuteTime": {
     "end_time": "2021-05-29T22:37:02.133397Z",
     "start_time": "2021-05-29T22:37:02.057902Z"
    }
   },
   "outputs": [
    {
     "data": {
      "text/plain": [
       "44568    13.643906\n",
       "34461    22.280537\n",
       "9716     24.126502\n",
       "39796    12.770973\n",
       "26012    11.339065\n",
       "           ...    \n",
       "47103     8.958886\n",
       "13996     9.286510\n",
       "9533      8.217255\n",
       "56769    13.488194\n",
       "54035    24.827962\n",
       "Name: life_span, Length: 19428, dtype: float64"
      ]
     },
     "execution_count": 8,
     "metadata": {},
     "output_type": "execute_result"
    }
   ],
   "source": [
    "life_span = pd.Series(y_pred - X_test_raw.first_appear)\n",
    "life_span.name = 'life_span'\n",
    "urls = pd.merge(life_span, raw_data.url, how='inner',\n",
    "         left_index=True, right_index=True)\n",
    "\n",
    "raw_data = raw_data.drop('url', axis=1)\n",
    "urls = pd.merge(urls, raw_data, how='inner',\n",
    "         left_index=True, right_index=True)\n",
    "\n",
    "urls.life_span"
   ]
  },
  {
   "cell_type": "code",
   "execution_count": 9,
   "metadata": {
    "ExecuteTime": {
     "end_time": "2021-05-29T22:37:02.172955Z",
     "start_time": "2021-05-29T22:37:02.137920Z"
    }
   },
   "outputs": [],
   "source": [
    "urls.loc[:, 'actual_life_span'] = urls.label + 1990 - urls.first_appear\n",
    "\n",
    "urls = urls[urls.life_span >= 0]\n",
    "urls = urls[urls.actual_life_span >= 0]"
   ]
  },
  {
   "cell_type": "code",
   "execution_count": 10,
   "metadata": {
    "ExecuteTime": {
     "end_time": "2021-05-29T22:37:02.191686Z",
     "start_time": "2021-05-29T22:37:02.176278Z"
    }
   },
   "outputs": [],
   "source": [
    "from scipy import stats\n",
    "\n",
    "\n",
    "urls.loc[:, 'is_gov'] = urls.gov == 1\n",
    "urls_gov = urls[urls.gov == 1]\n",
    "urls_others = urls[urls.gov != 1]\n"
   ]
  },
  {
   "cell_type": "code",
   "execution_count": 11,
   "metadata": {
    "ExecuteTime": {
     "end_time": "2021-05-29T22:37:02.203319Z",
     "start_time": "2021-05-29T22:37:02.195015Z"
    }
   },
   "outputs": [
    {
     "data": {
      "text/plain": [
       "Ttest_indResult(statistic=-6.627501469800641, pvalue=3.939722360922394e-11)"
      ]
     },
     "execution_count": 11,
     "metadata": {},
     "output_type": "execute_result"
    }
   ],
   "source": [
    "stats.ttest_ind(urls_gov.life_span, urls_others.life_span, equal_var = False)\n"
   ]
  },
  {
   "cell_type": "code",
   "execution_count": 12,
   "metadata": {
    "ExecuteTime": {
     "end_time": "2021-05-29T22:37:02.214574Z",
     "start_time": "2021-05-29T22:37:02.206329Z"
    }
   },
   "outputs": [
    {
     "data": {
      "text/plain": [
       "Ttest_indResult(statistic=-0.38615839686623293, pvalue=0.6994034859330576)"
      ]
     },
     "execution_count": 12,
     "metadata": {},
     "output_type": "execute_result"
    }
   ],
   "source": [
    "stats.ttest_ind(urls_gov.actual_life_span, urls_others.actual_life_span, equal_var = False)\n"
   ]
  },
  {
   "cell_type": "code",
   "execution_count": 13,
   "metadata": {
    "ExecuteTime": {
     "end_time": "2021-05-29T22:37:04.242273Z",
     "start_time": "2021-05-29T22:37:02.217461Z"
    }
   },
   "outputs": [
    {
     "data": {
      "text/plain": [
       "Text(0.5, 1.0, 'The predicted life span distribution of the websites')"
      ]
     },
     "execution_count": 13,
     "metadata": {},
     "output_type": "execute_result"
    },
    {
     "data": {
      "text/plain": [
       "<Figure size 432x288 with 0 Axes>"
      ]
     },
     "metadata": {},
     "output_type": "display_data"
    },
    {
     "data": {
      "image/png": "[encoded data removed]",
      "text/plain": [
       "<Figure size 1080x504 with 1 Axes>"
      ]
     },
     "metadata": {
      "needs_background": "light"
     },
     "output_type": "display_data"
    }
   ],
   "source": [
    "import matplotlib.pyplot as plt, matplotlib.style as style, seaborn as sns\n",
    "from scipy.stats import norm\n",
    "%matplotlib inline\n",
    "\n",
    "\n",
    "plt.clf()\n",
    "# style.use('fivethirtyeight')\n",
    "fig = sns.displot(urls, x=\"life_span\", hue=\"is_gov\")\n",
    "\n",
    "fig.fig.set_size_inches(15,7)\n",
    "\n",
    "plt.arrow(urls_gov.life_span.mean()-13, 370, 10, 0, width=5, head_length=2, color='red')\n",
    "plt.axvline(urls_gov.life_span.mean(), 0, 10, c='red')\n",
    "plt.text(urls_gov.life_span.mean()-17, 400, f'Government Mean\\n{round(urls_gov.life_span.mean(), 2)} years', c='red', size='large', weight='bold')\n",
    "\n",
    "plt.arrow(urls_gov.life_span.mean()+5, 230, -1, 0, width=5, head_length=2, color='blue')\n",
    "plt.axvline(urls_others.life_span.mean(), 0, 10, c='blue')\n",
    "plt.text(urls_others.life_span.mean()+5, 200, f'Others Mean\\n{round(urls_others.life_span.mean(), 2)} years', c='blue', size='large', weight='bold')\n",
    "\n",
    "plt.xlabel('Life Span', fontsize=18)\n",
    "plt.ylabel('Frequency', fontsize=18)\n",
    "plt.title('The predicted life span distribution of the websites', fontsize=30)\n"
   ]
  },
  {
   "cell_type": "code",
   "execution_count": 14,
   "metadata": {
    "ExecuteTime": {
     "end_time": "2021-05-29T22:37:05.760303Z",
     "start_time": "2021-05-29T22:37:04.245104Z"
    }
   },
   "outputs": [
    {
     "data": {
      "text/plain": [
       "Text(0.5, 1.0, 'The actual life span distribution of the websites')"
      ]
     },
     "execution_count": 14,
     "metadata": {},
     "output_type": "execute_result"
    },
    {
     "data": {
      "text/plain": [
       "<Figure size 432x288 with 0 Axes>"
      ]
     },
     "metadata": {},
     "output_type": "display_data"
    },
    {
     "data": {
      "image/png": "[encoded data removed]",
      "text/plain": [
       "<Figure size 1080x504 with 1 Axes>"
      ]
     },
     "metadata": {
      "needs_background": "light"
     },
     "output_type": "display_data"
    }
   ],
   "source": [
    "plt.clf()\n",
    "# style.use('fivethirtyeight')\n",
    "fig = sns.displot(urls, x=\"actual_life_span\", hue=\"is_gov\")\n",
    "\n",
    "fig.fig.set_size_inches(15,7)\n",
    "\n",
    "plt.arrow(urls_others.actual_life_span.mean()-4, 550, 2.5, 0, width=20, head_length=1, color='blue')\n",
    "plt.axvline(urls_others.actual_life_span.mean(), 0, 10, c='blue')\n",
    "plt.text(urls_others.actual_life_span.mean()-5, 650, f'Others Mean\\n{round(urls_others.actual_life_span.mean(), 2)} years', c='blue', size='large', weight='bold')\n",
    "\n",
    "plt.arrow(urls_gov.actual_life_span.mean()+4.5, 300, -3, 0, width=20, head_length=1, color='red')\n",
    "plt.axvline(urls_gov.actual_life_span.mean(), 0, 10, c='red')\n",
    "plt.text(urls_gov.actual_life_span.mean()+5, 250, f'Government Mean\\n{round(urls_gov.actual_life_span.mean(), 2)} years', c='red', size='large', weight='bold')\n",
    "\n",
    "plt.xlabel('Actual Life Span', fontsize=18)\n",
    "plt.ylabel('Frequency', fontsize=18)\n",
    "plt.title('The actual life span distribution of the websites', fontsize=30)\n"
   ]
  }
 ],
 "metadata": {
  "colab": {
   "collapsed_sections": [],
   "name": "scrutinize_best_C.ipynb",
   "provenance": [],
   "toc_visible": true
  },
  "kernelspec": {
   "display_name": "Python 3",
   "language": "python",
   "name": "python3"
  },
  "language_info": {
   "codemirror_mode": {
    "name": "ipython",
    "version": 3
   },
   "file_extension": ".py",
   "mimetype": "text/x-python",
   "name": "python",
   "nbconvert_exporter": "python",
   "pygments_lexer": "ipython3",
   "version": "3.7.4"
  }
 },
 "nbformat": 4,
 "nbformat_minor": 1
}
