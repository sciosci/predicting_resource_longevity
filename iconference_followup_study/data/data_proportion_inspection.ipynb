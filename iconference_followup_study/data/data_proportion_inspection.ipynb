{
 "cells": [
  {
   "cell_type": "code",
   "execution_count": 1,
   "metadata": {},
   "outputs": [],
   "source": [
    "import os\n",
    "\n",
    "import findspark\n",
    "\n",
    "findspark.init('/opt/cloudera/parcels/SPARK2/lib/spark2/')\n",
    "from pyspark.sql import SQLContext\n",
    "from pyspark.sql import SparkSession\n"
   ]
  },
  {
   "cell_type": "code",
   "execution_count": 2,
   "metadata": {},
   "outputs": [],
   "source": [
    "spark = SparkSession.builder. \\\n",
    "    config('spark.app.name', '[Website Quality] - Inspect disproportion ratio'). \\\n",
    "    config('spark.dynamicAllocation.enabled', 'true'). \\\n",
    "    config('spark.dynamicAllocation.maxExecutors', '50'). \\\n",
    "    config('spark.dynamicAllocation.executorIdleTimeout', '30s'). \\\n",
    "    config('spark.driver.maxResultSize', '8g'). \\\n",
    "    config('spark.driver.memory', '50g'). \\\n",
    "    config('spark.executor.memory', '10g'). \\\n",
    "    config('spark.task.maxFailures', '3'). \\\n",
    "    config('spark.yarn.am.memory', '50g'). \\\n",
    "    config('spark.yarn.max.executor.failures', '3'). \\\n",
    "    config('spark.kryoserializer.buffer.max', '1024m'). \\\n",
    "    config('spark.yarn.executor.memoryOverhead', '50g'). \\\n",
    "    getOrCreate()\n",
    "sc = spark.sparkContext\n",
    "spark_sql = SQLContext(sc)\n",
    "\n",
    "def load_dataset(spark, path, name):\n",
    "    return spark.read.parquet(path).registerTempTable(name)\n",
    "\n",
    "load_dataset(spark, '/user/jjian03/WebResourceQuality.parquet', 'web_resource_quality')\n",
    "load_dataset(spark, '/user/jjian03/WebResourceQuality_pmid.parquet', 'web_resource_quality_pmid')\n",
    "load_dataset(spark, '/datasets/MAG_20200403/MAG_Azure_Parquet/mag_parquet/Papers.parquet', 'Paper')\n",
    "load_dataset(spark, '/user/lliang06/icon/MAG_publication_features.parquet', 'mag')\n"
   ]
  },
  {
   "cell_type": "code",
   "execution_count": 3,
   "metadata": {},
   "outputs": [],
   "source": [
    "raw_data = spark_sql.sql(f'''\n",
    "        SELECT wr.label as Label, count(wr.id) as Cnt \n",
    "        FROM web_resource_quality wr\n",
    "        JOIN web_resource_quality_pmid wr_doi ON wr.id = wr_doi.id\n",
    "        JOIN Paper p ON wr_doi.doi = p.doi\n",
    "        JOIN mag m ON p.paperId = m.paperId\n",
    "        WHERE wr.label IS NOT NULL\n",
    "        AND wr.label IN (0, 1)\n",
    "        AND isNaN(wr.label) = false\n",
    "        AND wr.first_appear IS NOT NULL\n",
    "        AND isNaN(wr.first_appear) = false\n",
    "        AND lower(wr.url) NOT LIKE \"%doi.org%\"\n",
    "        GROUP BY wr.label\n",
    "    ''') \\\n",
    "    .toPandas()\n"
   ]
  },
  {
   "cell_type": "code",
   "execution_count": 4,
   "metadata": {},
   "outputs": [
    {
     "data": {
      "text/html": [
       "<div>\n",
       "<style scoped>\n",
       "    .dataframe tbody tr th:only-of-type {\n",
       "        vertical-align: middle;\n",
       "    }\n",
       "\n",
       "    .dataframe tbody tr th {\n",
       "        vertical-align: top;\n",
       "    }\n",
       "\n",
       "    .dataframe thead th {\n",
       "        text-align: right;\n",
       "    }\n",
       "</style>\n",
       "<table border=\"1\" class=\"dataframe\">\n",
       "  <thead>\n",
       "    <tr style=\"text-align: right;\">\n",
       "      <th></th>\n",
       "      <th>Label</th>\n",
       "      <th>Cnt</th>\n",
       "      <th>perc</th>\n",
       "    </tr>\n",
       "  </thead>\n",
       "  <tbody>\n",
       "    <tr>\n",
       "      <th>0</th>\n",
       "      <td>1</td>\n",
       "      <td>1778130</td>\n",
       "      <td>0.904665</td>\n",
       "    </tr>\n",
       "    <tr>\n",
       "      <th>1</th>\n",
       "      <td>0</td>\n",
       "      <td>187382</td>\n",
       "      <td>0.095335</td>\n",
       "    </tr>\n",
       "  </tbody>\n",
       "</table>\n",
       "</div>"
      ],
      "text/plain": [
       "   Label      Cnt      perc\n",
       "0      1  1778130  0.904665\n",
       "1      0   187382  0.095335"
      ]
     },
     "execution_count": 4,
     "metadata": {},
     "output_type": "execute_result"
    }
   ],
   "source": [
    "raw_data.loc[:,'perc']= raw_data.Cnt/raw_data.Cnt.sum()\n",
    "raw_data\n"
   ]
  }
 ],
 "metadata": {
  "kernelspec": {
   "display_name": "Python 3",
   "language": "python",
   "name": "python3"
  },
  "language_info": {
   "codemirror_mode": {
    "name": "ipython",
    "version": 3
   },
   "file_extension": ".py",
   "mimetype": "text/x-python",
   "name": "python",
   "nbconvert_exporter": "python",
   "pygments_lexer": "ipython3",
   "version": "3.7.9"
  }
 },
 "nbformat": 4,
 "nbformat_minor": 2
}
