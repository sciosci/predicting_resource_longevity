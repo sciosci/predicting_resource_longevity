{
 "cells": [
  {
   "cell_type": "code",
   "execution_count": 1,
   "metadata": {},
   "outputs": [],
   "source": [
    "%matplotlib inline\n",
    "import os\n",
    "import sys\n",
    "\n",
    "def add_path(path):\n",
    "    if path not in sys.path:\n",
    "        sys.path.insert(0, path)\n",
    "        sys.path.append(path)\n",
    "add_path('/home/jjian03/anaconda3/lib/python3.7/site-packages')\n",
    "add_path(f'{os.path.abspath(os.path.join(\"..\"))}')\n"
   ]
  },
  {
   "cell_type": "code",
   "execution_count": 2,
   "metadata": {},
   "outputs": [],
   "source": [
    "import findspark\n",
    "\n",
    "findspark.init('/opt/cloudera/parcels/SPARK2/lib/spark2/')\n",
    "from pyspark.sql import SQLContext\n",
    "from pyspark.sql import SparkSession\n",
    "from pyspark.sql import functions as fn\n",
    "from singleton_decorator import singleton\n",
    "\n",
    "\n",
    "spark = SparkSession.builder. \\\n",
    "                config('spark.app.name', 'Jian Jian - Check data'). \\\n",
    "                config('spark.dynamicAllocation.enabled', 'true'). \\\n",
    "                config('spark.dynamicAllocation.maxExecutors', '50'). \\\n",
    "                config('spark.dynamicAllocation.executorIdleTimeout', '30s'). \\\n",
    "                config('spark.driver.maxResultSize', '8g'). \\\n",
    "                config('spark.driver.memory', '8g'). \\\n",
    "                config('spark.executor.memory', '8g'). \\\n",
    "                config('spark.task.maxFailures', '3'). \\\n",
    "                config('spark.yarn.am.memory', '8g'). \\\n",
    "                config('spark.yarn.max.executor.failures', '3'). \\\n",
    "                config('spark.kryoserializer.buffer.max', '1024m'). \\\n",
    "                config('spark.yarn.executor.memoryOverhead', '8g'). \\\n",
    "                getOrCreate()\n",
    "sc = spark.sparkContext\n",
    "spark_sql = SQLContext(sc)"
   ]
  },
  {
   "cell_type": "code",
   "execution_count": 3,
   "metadata": {},
   "outputs": [],
   "source": [
    "def load_dataset(spark, path, name):\n",
    "    spark.read.parquet(path).registerTempTable(name)\n",
    "    \n",
    "load_dataset(spark, '/user/jjian03/WebResourceQuality.parquet', 'web_resource_quality')\n",
    "# load_dataset(spark, '/user/jjian03/WebResourceQuality_pmid.parquet', 'web_resource_quality_pmid')\n",
    "# load_dataset(spark, '/datasets/MAG_20200403/MAG_Azure_Parquet/mag_parquet/Papers.parquet', 'Paper')\n",
    "# load_dataset(spark, '/user/lliang06/icon/MAG_publication_features.parquet', 'mag')"
   ]
  },
  {
   "cell_type": "code",
   "execution_count": 4,
   "metadata": {},
   "outputs": [],
   "source": [
    "seed = 77\n",
    "fract = 0.03\n",
    "# raw_data = spark_sql.sql(f'''\n",
    "#                     SELECT wr.id\n",
    "#                         , wr.url\n",
    "#                         , wr.actual_scrape_url\n",
    "#                         , wr.first_appear\n",
    "#                         , wr.first_available_timestamp\n",
    "#                         , wr.last_available_timestamp\n",
    "#                         , wr.header\n",
    "#                         , wr.html_text\n",
    "#                         , wr.comment\n",
    "#                         , wr.from_waybackmachine\n",
    "#                         , wr.http_status_code\n",
    "#                         , wr.original_check_failure\n",
    "#                         , wr.original_check_error_log\n",
    "#                         , wr.terminate_reason\n",
    "#                         , wr.terminate_reason_error_log\n",
    "    \n",
    "#                         , m.paperId\n",
    "#                         , m.total_num_of_paper_citing\n",
    "#                         , m.total_num_of_author_citing\n",
    "#                         , m.total_num_of_affiliation_citing\n",
    "#                         , m.total_num_of_journal_citing\n",
    "#                         , m.total_num_of_author_self_citation\n",
    "#                         , m.total_num_of_affiliation_self_citation\n",
    "#                         , m.total_num_of_journal_self_citation\n",
    "#                         , m.avg_year\n",
    "#                         , m.min_year\n",
    "#                         , m.max_year\n",
    "#                         , m.median\n",
    "#                         , m.num_of_author\n",
    "#                         , m.num_of_author_citing\n",
    "#                         , m.num_of_affiliation_citing\n",
    "#                         , m.num_of_journal_citing\n",
    "#                         , m.avg_hindex\n",
    "#                         , m.first_author_hindex\n",
    "#                         , m.last_author_hindex\n",
    "#                         , m.avg_mid_author_hindex\n",
    "#                         , m.paper_unique_affiliation\n",
    "    \n",
    "#                     FROM web_resource_quality wr\n",
    "#                     JOIN web_resource_quality_pmid wr_doi ON wr.id = wr_doi.id\n",
    "#                     JOIN Paper p ON wr_doi.doi = p.doi\n",
    "#                     JOIN mag m ON p.paperId = m.paperId\n",
    "#                     WHERE wr.label IS NOT NULL\n",
    "#                     AND wr.label IN (\"0\", \"1\")\n",
    "#                     AND isNaN(wr.label) = false\n",
    "#                     AND wr.first_appear IS NOT NULL\n",
    "#                     AND isNaN(wr.first_appear) = false\n",
    "#                     AND lower(wr.url) NOT LIKE \"%doi.org%\"\n",
    "#                 ''') \\\n",
    "#                 .orderBy(fn.rand(seed=seed)) \\\n",
    "#                 .sample(False, fract, seed)\n"
   ]
  },
  {
   "cell_type": "code",
   "execution_count": 5,
   "metadata": {},
   "outputs": [],
   "source": [
    "raw_data = spark_sql.sql(f'''\n",
    "                    SELECT *\n",
    "    \n",
    "                    FROM web_resource_quality\n",
    "                ''')\n",
    "df = raw_data.select(['from_waybackmachine', 'label', 'last_available_timestamp']).toPandas()\n",
    "df.loc[:, 'last_available_timestamp'] = df.last_available_timestamp.astype(str)\n",
    "\n"
   ]
  },
  {
   "cell_type": "code",
   "execution_count": 6,
   "metadata": {},
   "outputs": [
    {
     "data": {
      "text/plain": [
       "Text(0.5, 1, \"Jian's Dataset\")"
      ]
     },
     "execution_count": 6,
     "metadata": {},
     "output_type": "execute_result"
    },
    {
     "data": {
      "image/png": "[encoded data removed]",
      "text/plain": [
       "<Figure size 360x360 with 1 Axes>"
      ]
     },
     "metadata": {
      "needs_background": "light"
     },
     "output_type": "display_data"
    }
   ],
   "source": [
    "import matplotlib.pyplot as plt\n",
    "import seaborn as sns\n",
    "\n",
    "\n",
    "df.loc[:, 'label'] = df.label.map({\n",
    "    -1: 'Dead',\n",
    "    0: 'From Wayback Machine',\n",
    "    1: 'Alive'\n",
    "})\n",
    "sns.displot(df, x='label', stat=\"probability\")\n",
    "plt.title('Jian\\'s Dataset', fontsize=20)"
   ]
  },
  {
   "cell_type": "code",
   "execution_count": null,
   "metadata": {},
   "outputs": [],
   "source": []
  }
 ],
 "metadata": {
  "kernelspec": {
   "display_name": "Python 3",
   "language": "python",
   "name": "python3"
  },
  "language_info": {
   "codemirror_mode": {
    "name": "ipython",
    "version": 3
   },
   "file_extension": ".py",
   "mimetype": "text/x-python",
   "name": "python",
   "nbconvert_exporter": "python",
   "pygments_lexer": "ipython3",
   "version": "3.7.3"
  }
 },
 "nbformat": 4,
 "nbformat_minor": 2
}
