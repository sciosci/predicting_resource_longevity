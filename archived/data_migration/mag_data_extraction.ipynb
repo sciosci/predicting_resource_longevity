{
 "cells": [
  {
   "cell_type": "markdown",
   "metadata": {},
   "source": [
    "# Feature Extraction"
   ]
  },
  {
   "cell_type": "markdown",
   "metadata": {},
   "source": [
    "## Create spark session"
   ]
  },
  {
   "cell_type": "code",
   "execution_count": null,
   "metadata": {},
   "outputs": [],
   "source": [
    "import findspark\n",
    "findspark.init('/opt/cloudera/parcels/SPARK2-2.3.0.cloudera3-1.cdh5.13.3.p0.458809/lib/spark2/')\n",
    "from pyspark.sql import SparkSession\n",
    "from pyspark.sql import SQLContext\n",
    "try:\n",
    "    print(spark.version)\n",
    "except NameError as e:\n",
    "    from pyspark.sql import SparkSession\n",
    "    spark = SparkSession.builder.\\\n",
    "        config('spark.app.name', '').\\\n",
    "        config('spark.dynamicAllocation.enabled','true').\\\n",
    "        config('spark.dynamicAllocation.maxExecutors','50').\\\n",
    "        config('spark.dynamicAllocation.executorIdleTimeout','30s').\\\n",
    "        config('spark.driver.maxResultSize', '8g').\\\n",
    "        config('spark.driver.memory', '8g').\\\n",
    "        config('spark.executor.memory', '4g').\\\n",
    "        config('spark.task.maxFailures', '3').\\\n",
    "        config('spark.yarn.am.memory', '8g').\\\n",
    "        config('spark.yarn.max.executor.failures', '3').\\\n",
    "        config('spark.kryoserializer.buffer.max','1024m').\\\n",
    "        getOrCreate()\n",
    "    print(spark.version)\n",
    "sc = spark.sparkContext\n",
    "spark_sql = SQLContext(sc)"
   ]
  },
  {
   "cell_type": "markdown",
   "metadata": {},
   "source": [
    "## Load Dataset"
   ]
  },
  {
   "cell_type": "code",
   "execution_count": null,
   "metadata": {},
   "outputs": [],
   "source": [
    "def load_dataset(spark, path, name):\n",
    "    spark.read.parquet(path).registerTempTable(name)    \n",
    "    \n",
    "load_dataset(spark, '/datasets/MAG_20200403/MAG_Azure_Parquet/mag_parquet/Papers.parquet', 'Paper')\n",
    "load_dataset(spark, '/datasets/MAG_20200403/MAG_Azure_Parquet/mag_parquet/PaperReferences.parquet', 'PaperReference')\n",
    "load_dataset(spark, '/datasets/MAG_20200403/MAG_Azure_Parquet/mag_parquet/AuthorAffiliation.parquet', 'PaperAuthorAffiliation')\n",
    "# load_dataset(spark, '/datasets/MAG_20200403/MAG_Azure_Parquet/mag_parquet/Authors.parquet', 'Author')\n",
    "# load_dataset(spark, '/datasets/MAG_20200403/MAG_Azure_Parquet/mag_parquet/Affiliations.parquet', 'Affiliation')\n"
   ]
  },
  {
   "cell_type": "markdown",
   "metadata": {},
   "source": [
    "## Extract Features"
   ]
  },
  {
   "cell_type": "code",
   "execution_count": null,
   "metadata": {},
   "outputs": [],
   "source": [
    "import os\n",
    "\n",
    "\n",
    "user_dir = '/user/jjian03'\n",
    "file_name = 'PaperReferCount.parquet'\n",
    "file_dir = os.path.join(user_dir, file_name)\n",
    "\n",
    "\n",
    "spark_sql.sql('''\n",
    "    WITH paper_meta AS (\n",
    "        SELECT \n",
    "            p.PaperId AS paper_id \n",
    "            , count(p_auth_org.AuthorId) AS author_cnt \n",
    "            , count(DISTINCT p_auth_org.AffiliationId) AS org_cnt \n",
    "        FROM Paper p\n",
    "        LEFT JOIN PaperAuthorAffiliation p_auth_org ON p_auth_org.PaperId = p.PaperId\n",
    "        GROUP BY p.PaperId\n",
    "    )\n",
    "    SELECT \n",
    "        orig.PaperId as paper_id \n",
    "        , sum(ref_source.org_cnt) as cnt_org_cited \n",
    "        , count(ref_source.paper_id) as cnt_paper_cited \n",
    "        , sum(ref_source.author_cnt) as cnt_author_cited \n",
    "    FROM Paper orig\n",
    "    LEFT JOIN PaperReference ref ON orig.PaperId = ref.PaperId\n",
    "    LEFT JOIN paper_meta ref_source ON ref.PaperReferenceId = ref_source.paper_id\n",
    "    GROUP BY orig.PaperId\n",
    "''') \\\n",
    ".write.mode(SaveMode.Overwrite).parquet(file_dir)\n",
    "# .limit(1).toPandas()\n",
    "\n",
    "print(f'Success! Dir -> {file_dir}')\n"
   ]
  },
  {
   "cell_type": "code",
   "execution_count": null,
   "metadata": {},
   "outputs": [],
   "source": [
    "load_dataset(spark, '/user/jjian03/PaperReferCount.parquet', 'PaperReferCount')"
   ]
  },
  {
   "cell_type": "code",
   "execution_count": null,
   "metadata": {},
   "outputs": [],
   "source": [
    "spark_sql.sql('''\n",
    "    SELECT *\n",
    "    FROM PaperReferCount\n",
    "''').limit(10).toPandas()"
   ]
  }
 ],
 "metadata": {
  "kernelspec": {
   "display_name": "Python 3",
   "language": "python",
   "name": "python3"
  },
  "language_info": {
   "codemirror_mode": {
    "name": "ipython",
    "version": 3
   },
   "file_extension": ".py",
   "mimetype": "text/x-python",
   "name": "python",
   "nbconvert_exporter": "python",
   "pygments_lexer": "ipython3",
   "version": "3.7.3"
  }
 },
 "nbformat": 4,
 "nbformat_minor": 2
}
