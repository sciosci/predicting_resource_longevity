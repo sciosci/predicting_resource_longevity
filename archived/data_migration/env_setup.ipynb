{
 "cells": [
  {
   "cell_type": "markdown",
   "metadata": {},
   "source": [
    "# Environment Setup"
   ]
  },
  {
   "cell_type": "code",
   "execution_count": 2,
   "metadata": {},
   "outputs": [
    {
     "name": "stdout",
     "output_type": "stream",
     "text": [
      "Requirement already satisfied: singleton_decorator in ./anaconda3/lib/python3.7/site-packages (1.0.0)\n",
      "Requirement already satisfied: pyspark in ./anaconda3/lib/python3.7/site-packages (2.4.6)\n",
      "Requirement already satisfied: py4j==0.10.7 in ./anaconda3/lib/python3.7/site-packages (from pyspark) (0.10.7)\n"
     ]
    }
   ],
   "source": [
    "!/home/jjian03/anaconda3/bin/pip install singleton_decorator\n",
    "!/home/jjian03/anaconda3/bin/pip install pyspark"
   ]
  },
  {
   "cell_type": "code",
   "execution_count": 3,
   "metadata": {},
   "outputs": [],
   "source": [
    "import sys\n",
    "sys.path.insert(0, '/home/jjian03/anaconda3/lib/python3.7/site-packages')"
   ]
  },
  {
   "cell_type": "code",
   "execution_count": 4,
   "metadata": {},
   "outputs": [
    {
     "name": "stdout",
     "output_type": "stream",
     "text": [
      "2.3.0.cloudera3\n"
     ]
    }
   ],
   "source": [
    "import findspark\n",
    "findspark.init('/opt/cloudera/parcels/SPARK2-2.3.0.cloudera3-1.cdh5.13.3.p0.458809/lib/spark2/')\n",
    "\n",
    "from pyspark.sql import SparkSession\n",
    "from pyspark.sql import SQLContext\n",
    "\n",
    "\n",
    "try:\n",
    "    print(spark.version)\n",
    "except NameError as e:\n",
    "    from pyspark.sql import SparkSession\n",
    "    spark = SparkSession.builder.\\\n",
    "        config('spark.app.name', 'mongodb_migration').\\\n",
    "        config('spark.dynamicAllocation.enabled','true').\\\n",
    "        config('spark.dynamicAllocation.maxExecutors','50').\\\n",
    "        config('spark.dynamicAllocation.executorIdleTimeout','30s').\\\n",
    "        config('spark.driver.maxResultSize', '8g').\\\n",
    "        config('spark.driver.memory', '50g').\\\n",
    "        config('spark.executor.memory', '4g').\\\n",
    "        config('spark.task.maxFailures', '3').\\\n",
    "        config('spark.yarn.am.memory', '8g').\\\n",
    "        config('spark.yarn.max.executor.failures', '3').\\\n",
    "        config('spark.kryoserializer.buffer.max','1024m').\\\n",
    "        getOrCreate()\n",
    "    print(spark.version)\n",
    "sc = spark.sparkContext\n",
    "spark_sql = SQLContext(sc)"
   ]
  },
  {
   "cell_type": "code",
   "execution_count": 7,
   "metadata": {},
   "outputs": [],
   "source": [
    "from datetime import datetime\n",
    "import gc\n",
    "\n",
    "\n",
    "def load_dataset(spark, path, name):\n",
    "    spark.read.parquet(path).registerTempTable(name)    \n",
    "\n",
    "class Formatter:\n",
    "    @staticmethod\n",
    "    def get_timestamp(format=\"%Y/%m/%d %H:%M:%S\"):\n",
    "        return str((datetime.now().strftime(format)))\n",
    "\n",
    "def watch():\n",
    "    load_dataset(spark, '/user/jjian03/WebResourceQuality.parquet', 'WebResourceQuality')\n",
    "\n",
    "    cnt = spark_sql.sql('''\n",
    "        SELECT count(id) as cnt\n",
    "        FROM WebResourceQuality\n",
    "    ''').toPandas().cnt[0]\n",
    "    print(f'{Formatter.get_timestamp()} - {cnt}')\n",
    "    gc.collect()"
   ]
  },
  {
   "cell_type": "code",
   "execution_count": 12,
   "metadata": {},
   "outputs": [
    {
     "name": "stdout",
     "output_type": "stream",
     "text": [
      "2020/06/17 11:00:26 - 1989579\n",
      "2020/06/17 11:06:18 - 1999575\n",
      "2020/06/17 11:11:56 - 2004921\n",
      "2020/06/17 11:17:42 - 2004921\n",
      "2020/06/17 11:23:29 - 2004921\n",
      "2020/06/17 11:30:40 - 2004921\n",
      "2020/06/17 11:36:08 - 2004921\n",
      "2020/06/17 11:41:26 - 2004921\n",
      "2020/06/17 11:46:59 - 2004921\n"
     ]
    },
    {
     "ename": "KeyboardInterrupt",
     "evalue": "",
     "output_type": "error",
     "traceback": [
      "\u001b[0;31m---------------------------------------------------------------------------\u001b[0m",
      "\u001b[0;31mKeyboardInterrupt\u001b[0m                         Traceback (most recent call last)",
      "\u001b[0;32m<ipython-input-12-4040da028a86>\u001b[0m in \u001b[0;36m<module>\u001b[0;34m\u001b[0m\n\u001b[1;32m      3\u001b[0m \u001b[0;32mwhile\u001b[0m \u001b[0;32mTrue\u001b[0m\u001b[0;34m:\u001b[0m\u001b[0;34m\u001b[0m\u001b[0;34m\u001b[0m\u001b[0m\n\u001b[1;32m      4\u001b[0m     \u001b[0mwatch\u001b[0m\u001b[0;34m(\u001b[0m\u001b[0;34m)\u001b[0m\u001b[0;34m\u001b[0m\u001b[0;34m\u001b[0m\u001b[0m\n\u001b[0;32m----> 5\u001b[0;31m     \u001b[0mtime\u001b[0m\u001b[0;34m.\u001b[0m\u001b[0msleep\u001b[0m\u001b[0;34m(\u001b[0m\u001b[0;36m300\u001b[0m\u001b[0;34m)\u001b[0m\u001b[0;34m\u001b[0m\u001b[0;34m\u001b[0m\u001b[0m\n\u001b[0m",
      "\u001b[0;31mKeyboardInterrupt\u001b[0m: "
     ]
    }
   ],
   "source": [
    "import time\n",
    "\n",
    "while True:\n",
    "    watch()\n",
    "    time.sleep(300)"
   ]
  },
  {
   "cell_type": "code",
   "execution_count": 11,
   "metadata": {},
   "outputs": [
    {
     "data": {
      "text/plain": [
       "Index(['id', 'url', 'actual_scrape_url', 'first_appear',\n",
       "       'first_available_timestamp', 'last_available_timestamp', 'header',\n",
       "       'html_text', 'comment', 'from_waybackmachine', 'http_status_code',\n",
       "       'original_check_failure', 'original_check_error_log',\n",
       "       'terminate_reason', 'terminate_reason_error_log', 'label'],\n",
       "      dtype='object')"
      ]
     },
     "execution_count": 11,
     "metadata": {},
     "output_type": "execute_result"
    }
   ],
   "source": [
    "load_dataset(spark, '/user/jjian03/WebResourceQuality.parquet', 'WebResourceQuality')\n",
    "load_dataset(spark, '/datasets/MAG_20200403/MAG_Azure_Parquet/mag_parquet/Papers.parquet', 'Paper')\n",
    "load_dataset(spark, '/datasets/MAG_20200403/MAG_Azure_Parquet/mag_parquet/PaperReferences.parquet', 'PaperReference')\n",
    "load_dataset(spark, '/datasets/MAG_20200403/MAG_Azure_Parquet/mag_parquet/AuthorAffiliation.parquet', 'PaperAuthorAffiliation')\n",
    "# load_dataset(spark, '/datasets/MAG_20200403/MAG_Azure_Parquet/mag_parquet/Authors.parquet', 'Author')\n",
    "# load_dataset(spark, '/datasets/MAG_20200403/MAG_Azure_Parquet/mag_parquet/Affiliations.parquet', 'Affiliation')\n",
    "\n",
    "spark_sql.sql('''\n",
    "        SELECT *\n",
    "        FROM WebResourceQuality\n",
    "    ''').limit(1).toPandas().columns"
   ]
  }
 ],
 "metadata": {
  "kernelspec": {
   "display_name": "Python 3",
   "language": "python",
   "name": "python3"
  },
  "language_info": {
   "codemirror_mode": {
    "name": "ipython",
    "version": 3
   },
   "file_extension": ".py",
   "mimetype": "text/x-python",
   "name": "python",
   "nbconvert_exporter": "python",
   "pygments_lexer": "ipython3",
   "version": "3.7.3"
  }
 },
 "nbformat": 4,
 "nbformat_minor": 2
}
